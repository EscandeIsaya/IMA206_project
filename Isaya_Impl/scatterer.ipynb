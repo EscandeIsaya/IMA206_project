{
 "cells": [
  {
   "cell_type": "code",
   "execution_count": 43,
   "metadata": {},
   "outputs": [
    {
     "name": "stdout",
     "output_type": "stream",
     "text": [
      "Hello World\n"
     ]
    }
   ],
   "source": [
    "print(\"Hello World\")"
   ]
  },
  {
   "cell_type": "code",
   "execution_count": 44,
   "metadata": {},
   "outputs": [],
   "source": [
    "import numpy as np\n",
    "import matplotlib.pyplot as plt   \n",
    "from atasi import AtasiNet     "
   ]
  },
  {
   "cell_type": "code",
   "execution_count": 45,
   "metadata": {},
   "outputs": [],
   "source": [
    "\n",
    "fc = 14.25e9 #Hz\n",
    "lambda_c = 0.021 #m\n",
    "delta_D = 0.084 #m\n",
    "R0 = 400 #m\n",
    "theta = 45*np.pi/180 #rad\n",
    "n_antennas = 8 #number of antennas\n",
    "n_samples = 1000 #number of samples\n",
    "n_grids = 128 #number of grids"
   ]
  },
  {
   "cell_type": "code",
   "execution_count": 197,
   "metadata": {},
   "outputs": [],
   "source": [
    "def generate_backscatter_coefficients(height=None):\n",
    "\tif height == None : \n",
    "\t\theight = np.random.choice([k for k in range(200)])\n",
    "\tA = min(max(np.abs(np.random.rayleigh(scale=2, size=1)[0]), 1), 4)\n",
    "\tprint(A)\n",
    "\n",
    "\tphi = np.random.uniform(0, 2 * np.pi, size=1)[0]\n",
    "\tgamma_ = A * np.exp(1j * phi)\n",
    "\tprint(gamma_)\n",
    "\tgamma = np.zeros(200,)\n",
    "\tgamma[height] = gamma_\n",
    "\treturn gamma\n",
    "\n",
    "#referred to as A in the model implementation part\n",
    "#baselines in gamma-net go from -135 to 135 in 25 steps\n",
    "def compute_baseline_lengths():\n",
    "    return np.linspace (-135,135,25)\n",
    "\n",
    "def compute_measurement_matrix(baselines, num_grids, wavelength, R0):\n",
    "    s = np.linspace(0, 200, num_grids)  \n",
    "    D = np.exp(1j * 4 * np.pi * np.outer(baselines, s) / (wavelength * R0))\n",
    "    return D\n",
    "\n",
    "#ToDo : compute 11 levels of noise with SNR from 0 to 30 dB --> find the right gwn each time\n",
    "def simulate_backscattered_signal(gamma, D):\n",
    "    return np.dot(D, gamma)\n",
    "\n",
    "def double_scatterer(height1,height2):\n",
    "    gamma1 = generate_backscatter_coefficients(height1)\n",
    "    gamma2 = generate_backscatter_coefficients(height2)\n",
    "    gamma = gamma1 + gamma2 \n",
    "    return gamma\n",
    "\n",
    "def generate_gamma(n_scatterers,height) :\n",
    "\tif n_scatterers == 2:\n",
    "\t\treturn double_scatterer(height[0],height[1])\n",
    "\telif n_scatterers == 1 : \n",
    "\t\treturn generate_backscatter_coefficients(height)\n",
    "\telse : \n",
    "\t\traise ValueError(\"Wrong number of scatterers\")"
   ]
  },
  {
   "cell_type": "code",
   "execution_count": 200,
   "metadata": {},
   "outputs": [
    {
     "name": "stdout",
     "output_type": "stream",
     "text": [
      "3.3930998225871036\n",
      "(-2.7147431745053274+2.0355087576616744j)\n",
      "1.5266628679095096\n",
      "(0.579256523436329-1.4125018202856046j)\n"
     ]
    },
    {
     "name": "stderr",
     "output_type": "stream",
     "text": [
      "/tmp/ipykernel_8249/3567411462.py:11: ComplexWarning: Casting complex values to real discards the imaginary part\n",
      "  gamma[height] = gamma_\n"
     ]
    },
    {
     "data": {
      "text/plain": [
       "[<matplotlib.lines.Line2D at 0x7c1be976c7c0>]"
      ]
     },
     "execution_count": 200,
     "metadata": {},
     "output_type": "execute_result"
    },
    {
     "data": {
      "image/png": "[encoded data removed]",
      "text/plain": [
       "<Figure size 640x480 with 1 Axes>"
      ]
     },
     "metadata": {},
     "output_type": "display_data"
    }
   ],
   "source": [
    "#plot the backscatter coefficients \n",
    "n_scatterers = 2 \n",
    "height = [10,100]\n",
    "\n",
    "# n_scatterers = 1\n",
    "# height = 50\n",
    "\n",
    "gamma = generate_gamma(n_scatterers,height)\n",
    "\n",
    "plt.plot([np.abs(gamma[k]) for k in range(len(gamma))])"
   ]
  },
  {
   "cell_type": "code",
   "execution_count": 159,
   "metadata": {},
   "outputs": [
    {
     "name": "stdout",
     "output_type": "stream",
     "text": [
      "(25, 128)\n"
     ]
    }
   ],
   "source": [
    "baselines = compute_baseline_lengths(n_antennas, delta_D, theta)\n",
    "D = compute_measurement_matrix(baselines, n_grids, lambda_c, R0)\n",
    "print(D.shape)\n"
   ]
  },
  {
   "cell_type": "code",
   "execution_count": 50,
   "metadata": {},
   "outputs": [
    {
     "name": "stderr",
     "output_type": "stream",
     "text": [
      "/home/guacaman/.virtualenvs/IMA/lib/python3.10/site-packages/scipy/optimize/_numdiff.py:598: ComplexWarning: Casting complex values to real discards the imaginary part\n",
      "  J_transposed[i] = df / dx\n",
      "/home/guacaman/.virtualenvs/IMA/lib/python3.10/site-packages/scipy/optimize/_slsqp_py.py:422: ComplexWarning: Casting complex values to real discards the imaginary part\n",
      "  slsqp(m, meq, x, xl, xu, fx, c, g, a, acc, majiter, mode, w, jw,\n"
     ]
    },
    {
     "name": "stdout",
     "output_type": "stream",
     "text": [
      "(8, 128)\n",
      "(8, 128)\n",
      "461264.7065607822\n"
     ]
    }
   ],
   "source": [
    "# Example usage\n",
    "\n",
    "model = AtasiNet(D)\n",
    "W = model.compute_w()\n",
    "print(W.shape)\n",
    "print(D.shape)\n",
    "score = np.linalg.norm(W.T@D)**2\n",
    "print(score)\n"
   ]
  },
  {
   "cell_type": "code",
   "execution_count": 93,
   "metadata": {},
   "outputs": [
    {
     "name": "stdout",
     "output_type": "stream",
     "text": [
      "1.7631594857076658\n"
     ]
    }
   ],
   "source": [
    "A = np.random.rayleigh(scale=2, size=1)[0]\n",
    "print(A)"
   ]
  },
  {
   "cell_type": "code",
   "execution_count": 152,
   "metadata": {},
   "outputs": [
    {
     "name": "stdout",
     "output_type": "stream",
     "text": [
      "5.246814976436057\n"
     ]
    }
   ],
   "source": [
    "phi = np.random.uniform(0, 2 * np.pi, size=1)[0]\n",
    "print(phi)"
   ]
  },
  {
   "cell_type": "markdown",
   "metadata": {},
   "source": [
    "cristiano.ulondumendes@telecom-paris.fr"
   ]
  }
 ],
 "metadata": {
  "kernelspec": {
   "display_name": "IMA",
   "language": "python",
   "name": "python3"
  },
  "language_info": {
   "codemirror_mode": {
    "name": "ipython",
    "version": 3
   },
   "file_extension": ".py",
   "mimetype": "text/x-python",
   "name": "python",
   "nbconvert_exporter": "python",
   "pygments_lexer": "ipython3",
   "version": "3.10.12"
  }
 },
 "nbformat": 4,
 "nbformat_minor": 2
}

{
 "cells": [
  {
   "cell_type": "code",
   "execution_count": 2,
   "metadata": {},
   "outputs": [
    {
     "name": "stdout",
     "output_type": "stream",
     "text": [
      "Hello World\n"
     ]
    }
   ],
   "source": [
    "print(\"Hello World\")"
   ]
  },
  {
   "cell_type": "code",
   "execution_count": 3,
   "metadata": {},
   "outputs": [],
   "source": [
    "import numpy as np\n",
    "import matplotlib.pyplot as plt   \n",
    "from atasi import AtasiNet     "
   ]
  },
  {
   "cell_type": "code",
   "execution_count": 4,
   "metadata": {},
   "outputs": [],
   "source": [
    "\n",
    "fc = 14.25e9 #Hz\n",
    "lambda_c = 0.021 #m\n",
    "delta_D = 0.084 #m\n",
    "R0 = 400 #m\n",
    "theta = 45*np.pi/180 #rad\n",
    "n_antennas = 8 #number of antennas\n",
    "n_samples = 1000 #number of samples\n",
    "n_grids = 200 #number of grids (of different height cells)\n",
    "max_height = 200 #m"
   ]
  },
  {
   "cell_type": "code",
   "execution_count": 9,
   "metadata": {},
   "outputs": [],
   "source": [
    "def generate_backscatter_coefficients(height=None):\n",
    "\tif height == None : \n",
    "\t\theight = np.random.choice([k for k in range(200)])\n",
    "\tA = min(max(np.abs(np.random.rayleigh(scale=2, size=1)[0]), 1), 4)\n",
    "\n",
    "\tphi = np.random.uniform(0, 2 * np.pi, size=1)[0]\n",
    "\tgamma_ = A * np.exp(1j * phi)\n",
    "\tgamma = np.zeros(n_grids,dtype=complex)\n",
    "\tgamma[height] = gamma_\n",
    "\treturn gamma\n",
    "\n",
    "#referred to as A in the model implementation part\n",
    "#baselines in gamma-net go from -135 to 135 in 25 steps\n",
    "def compute_baseline_lengths():\n",
    "    return np.linspace (-135,135,25)\n",
    "\n",
    "def compute_measurement_matrix(baselines, num_grids, wavelength, R0):\n",
    "    s = np.linspace(0, max_height, num_grids)  \n",
    "    D = np.exp(1j * 4 * np.pi * np.outer(baselines, s) / (wavelength * R0))\n",
    "    return D\n",
    "\n",
    "#ToDo : compute 11 levels of noise with SNR from 0 to 30 dB --> find the right gwn each time\n",
    "def simulate_backscattered_signal(gamma, D):\n",
    "    return np.dot(D, gamma)\n",
    "\n",
    "def double_scatterer(height1,height2):\n",
    "    gamma1 = generate_backscatter_coefficients(height1)\n",
    "    gamma2 = generate_backscatter_coefficients(height2)\n",
    "    gamma = gamma1 + gamma2 \n",
    "    return gamma\n",
    "\n",
    "def generate_gamma(n_scatterers,height=None,scatterers_dist=None) :\n",
    "\tif n_scatterers == 2:\n",
    "\n",
    "\t\t#no height and resolution specified : generate random heights\n",
    "\t\tif height == None and scatterers_dist == None :\n",
    "\t\t\theight1 = np.random.choice([k for k in range(200)])\n",
    "\t\t\theight2 = np.random.choice([k for k in range(200)])\n",
    "\t\t\twhile height1 == height2:\n",
    "\t\t\t\theight2 = np.random.choice([k for k in range(200)])\n",
    "\n",
    "\t\t#no height specified but resolution specified : generate random heights with a given distance\n",
    "\t\telif height == None and scatterers_dist is not None :\n",
    "\t\t\theight1 = np.random.choice([k for k in range(200)])\n",
    "\t\t\theight2 = height1 + scatterers_dist \n",
    "\t\t\tif height2 > max_height : \n",
    "\t\t\t\theight2 = height1 - scatterers_dist\n",
    "\t\t\n",
    "\t\t#height specified\n",
    "\t\telse : \n",
    "\t\t\theight1 = height[0]\n",
    "\t\t\theight2 = height[1]\n",
    "\n",
    "\t\treturn double_scatterer(height1,height2)\n",
    "\n",
    "\t\t\n",
    "\telif n_scatterers == 1 : \n",
    "\t\tif height is not None and type(height) != int : \n",
    "\t\t\traise TypeError(\"If only one scatterer, height must be an integer\")\n",
    "\t\telif height is None : \n",
    "\t\t\theight = np.random.choice([k for k in range(200)])\n",
    "\t\treturn generate_backscatter_coefficients(height)\n",
    "\t\n",
    "\n",
    "\telse : \n",
    "\t\traise ValueError(\"Number of scatterers must be one or two\")"
   ]
  },
  {
   "cell_type": "code",
   "execution_count": 10,
   "metadata": {},
   "outputs": [
    {
     "data": {
      "text/plain": [
       "[<matplotlib.lines.Line2D at 0x73369aff41f0>]"
      ]
     },
     "execution_count": 10,
     "metadata": {},
     "output_type": "execute_result"
    },
    {
     "data": {
      "image/png": "[encoded data removed]",
      "text/plain": [
       "<Figure size 640x480 with 1 Axes>"
      ]
     },
     "metadata": {},
     "output_type": "display_data"
    }
   ],
   "source": [
    "#plot the backscatter coefficients \n",
    "#ToDO : make a better more random way of choosing the heights\n",
    "#ToDO : study rayleigh's resolution and the stuff linked with it in the paper\n",
    "n_scatterers = 2\n",
    "height = None\n",
    "\n",
    "# n_scatterers = 1\n",
    "# height = 50\n",
    "\n",
    "gamma = generate_gamma(n_scatterers)\n",
    "\n",
    "plt.plot([np.abs(gamma[k]) for k in range(len(gamma))])"
   ]
  },
  {
   "cell_type": "code",
   "execution_count": null,
   "metadata": {},
   "outputs": [
    {
     "name": "stdout",
     "output_type": "stream",
     "text": [
      "(25, 200)\n",
      "[-7.87096581e-01+1.28004093j -5.43113861e-02-3.35277125j\n",
      "  2.99411090e+00-4.30229948j  3.23813645e+00-1.1626899j\n",
      " -8.15631601e-01+1.16173177j -4.63203185e+00-0.47057522j\n",
      " -3.78691590e+00-3.01686703j -4.57989688e-03-1.74831542j\n",
      "  1.41917340e+00+2.76249206j -8.82083601e-01+5.15295103j\n",
      " -2.56610578e+00+2.62866756j -1.10975224e-02-1.21616695j\n",
      "  4.23980927e+00-1.50442096j  4.82314841e+00+1.1420972j\n",
      "  1.00536717e+00+1.73861254j -2.29889462e+00-1.68381767j\n",
      " -1.38057667e+00-5.00730593j  1.23871607e+00-3.69185935j\n",
      "  6.85906536e-01+0.82247276j -3.06127838e+00+3.05524869j\n",
      " -4.94454093e+00+1.0388692j  -1.94262553e+00-1.18296115j\n",
      "  2.55373331e+00+0.41351669j  3.34216385e+00+3.90568985j\n",
      "  5.05082739e-01+4.0698927j ]\n"
     ]
    }
   ],
   "source": [
    "baselines = compute_baseline_lengths()\n",
    "D = compute_measurement_matrix(baselines, n_grids, lambda_c, R0)\n",
    "print(D.shape)\n",
    "\n",
    "#generate y \n",
    "y = np.dot(D,gamma)\n",
    "#ToDO add the noise to have the correct SNR for all the values mentionned\n",
    "print(y)\n"
   ]
  },
  {
   "cell_type": "code",
   "execution_count": null,
   "metadata": {},
   "outputs": [
    {
     "name": "stderr",
     "output_type": "stream",
     "text": [
      "/home/guacaman/.virtualenvs/IMA/lib/python3.10/site-packages/scipy/optimize/_numdiff.py:598: ComplexWarning: Casting complex values to real discards the imaginary part\n",
      "  J_transposed[i] = df / dx\n",
      "/home/guacaman/.virtualenvs/IMA/lib/python3.10/site-packages/scipy/optimize/_slsqp_py.py:422: ComplexWarning: Casting complex values to real discards the imaginary part\n",
      "  slsqp(m, meq, x, xl, xu, fx, c, g, a, acc, majiter, mode, w, jw,\n"
     ]
    }
   ],
   "source": [
    "\n",
    "model = AtasiNet(D)\n",
    "W = model.compute_w()\n",
    "print(W.shape)\n",
    "print(D.shape)\n",
    "score = np.linalg.norm(W.T@D)**2\n",
    "print(score)\n"
   ]
  },
  {
   "cell_type": "markdown",
   "metadata": {},
   "source": [
    "cristiano.ulondumendes@telecom-paris.fr"
   ]
  }
 ],
 "metadata": {
  "kernelspec": {
   "display_name": "IMA",
   "language": "python",
   "name": "python3"
  },
  "language_info": {
   "codemirror_mode": {
    "name": "ipython",
    "version": 3
   },
   "file_extension": ".py",
   "mimetype": "text/x-python",
   "name": "python",
   "nbconvert_exporter": "python",
   "pygments_lexer": "ipython3",
   "version": "3.10.12"
  }
 },
 "nbformat": 4,
 "nbformat_minor": 2
}

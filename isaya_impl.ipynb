{
 "cells": [
  {
   "cell_type": "code",
   "execution_count": 2,
   "metadata": {},
   "outputs": [
    {
     "name": "stdout",
     "output_type": "stream",
     "text": [
      "Hello World\n"
     ]
    }
   ],
   "source": [
    "print(\"Hello World\")"
   ]
  },
  {
   "cell_type": "code",
   "execution_count": 3,
   "metadata": {},
   "outputs": [],
   "source": [
    "import numpy as np\n",
    "import matplotlib.pyplot as plt\n",
    "\n",
    "fc = 14.25e9\n",
    "\n",
    "def original_signal(t): \n",
    "    np.exp(1j * 2 * np.pi * fc*t)\n",
    "\n",
    "def compute_tau_kth_antenna(k,R0,delta_D,theta):\n",
    "    return R0 + k*delta_D * np.sin(theta)\n",
    "\n",
    "def one_backscatterer(tau,t):\n",
    "\tA = np.random.rayleigh(0,4)\n",
    "\tphi = np.random.uniform(0,2*np.pi)\n",
    "\treturn A * original_signal(t - tau)*np.exp(1j*phi)\n",
    "\n",
    "#def generate_double_scatterer(rayleigh_res):\n",
    "\t\n",
    "        "
   ]
  }
 ],
 "metadata": {
  "kernelspec": {
   "display_name": "IMA",
   "language": "python",
   "name": "python3"
  },
  "language_info": {
   "codemirror_mode": {
    "name": "ipython",
    "version": 3
   },
   "file_extension": ".py",
   "mimetype": "text/x-python",
   "name": "python",
   "nbconvert_exporter": "python",
   "pygments_lexer": "ipython3",
   "version": "3.10.12"
  }
 },
 "nbformat": 4,
 "nbformat_minor": 2
}

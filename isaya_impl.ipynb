{
 "cells": [
  {
   "cell_type": "code",
   "execution_count": 2,
   "metadata": {},
   "outputs": [
    {
     "name": "stdout",
     "output_type": "stream",
     "text": [
      "Hello World\n"
     ]
    }
   ],
   "source": [
    "print(\"Hello World\")"
   ]
  },
  {
   "cell_type": "code",
   "execution_count": 3,
   "metadata": {},
   "outputs": [],
   "source": [
    "import numpy as np\n",
    "import matplotlib.pyplot as plt\n",
    "\n",
    "def generate_single_scatterer(num_samples=1):\n",
    "    # Amplitude A follows Rayleigh distribution\n",
    "    A = np.random.rayleigh(scale=2.0, size=num_samples)\n",
    "    phi = np.random.uniform(0, 2 * np.pi, size=num_samples)\n",
    "    gamma = A * np.exp(1j * phi)\n",
    "    return gamma\n",
    "\n",
    "def generate_double_scatterer(num_samples,rayleigh_res):\n",
    "\televation_distances = np.linspace(0.1*rayleigh_res, 1.2*rayleigh_res, size=num_samples)\n",
    "\tsignals = np.zeros(num_samples)\n",
    "\tfor k in range(num_samples):\n",
    "\t\tgamma_1 = generate_single_scatterer()\n",
    "\t\tgamma_2 = generate_single_scatterer()\n",
    "\t\t# Compute the echo\n",
    "\t\t# Add the white noise\n",
    "\t\t# Add the signal to the list\n",
    "\t\n",
    "        "
   ]
  }
 ],
 "metadata": {
  "kernelspec": {
   "display_name": "IMA",
   "language": "python",
   "name": "python3"
  },
  "language_info": {
   "codemirror_mode": {
    "name": "ipython",
    "version": 3
   },
   "file_extension": ".py",
   "mimetype": "text/x-python",
   "name": "python",
   "nbconvert_exporter": "python",
   "pygments_lexer": "ipython3",
   "version": "3.10.12"
  }
 },
 "nbformat": 4,
 "nbformat_minor": 2
}

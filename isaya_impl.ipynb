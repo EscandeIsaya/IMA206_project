{
 "cells": [
  {
   "cell_type": "code",
   "execution_count": 1,
<<<<<<< HEAD
=======
   "metadata": {},
   "outputs": [
    {
     "name": "stdout",
     "output_type": "stream",
     "text": [
      "Hello World\n"
     ]
    }
   ],
   "source": [
    "print(\"Hello World\")"
   ]
  },
  {
   "cell_type": "code",
   "execution_count": 2,
>>>>>>> b78eb457c6bdbe555c63d73c01636c8fe29f53ba
   "metadata": {},
   "outputs": [],
   "source": [
    "import numpy as np\n",
    "import matplotlib.pyplot as plt        "
   ]
  },
  {
   "cell_type": "code",
   "execution_count": 5,
   "metadata": {},
   "outputs": [],
   "source": [
    "\n",
    "fc = 14.25e9 #Hz\n",
    "lambda_c = 0.021 #m\n",
    "delta_D = 0.084 #m\n",
    "R0 = 400 #m\n",
    "theta = 45*np.pi/180 #rad\n",
    "n_antennas = 8 #number of antennas\n",
    "N_samples = 128 #number of samples"
   ]
  },
  {
   "cell_type": "code",
   "execution_count": 4,
   "metadata": {},
   "outputs": [],
   "source": [
    "def generate_backscatter_coefficients(num_samples):\n",
    "    A = np.random.rayleigh(scale=2, size=num_samples)  # Scale parameter adjusted for 0 to 4 range\n",
    "    phi = np.random.uniform(0, 2 * np.pi, size=num_samples)\n",
    "    gamma = A * np.exp(1j * phi)\n",
    "    return gamma\n",
    "\n",
    "def compute_baseline_lengths(n, delta_d, theta):\n",
    "    return np.array([k * delta_d * np.sin(theta) for k in range(n)])\n",
    "\n",
    "def compute_measurement_matrix(baselines, num_grids, wavelength, R0):\n",
    "    s = np.linspace(-1, 1, num_grids)  # Assuming s is normalized between -1 and 1\n",
    "    D = np.exp(1j * 4 * np.pi * np.outer(baselines, s) / (wavelength * R0))\n",
    "    return D\n",
    "\n",
    "def simulate_backscattered_signal(gamma, D):\n",
    "    return np.dot(D.T, gamma)\n"
   ]
  }
 ],
 "metadata": {
  "kernelspec": {
   "display_name": "IMA",
   "language": "python",
   "name": "python3"
  },
  "language_info": {
   "codemirror_mode": {
    "name": "ipython",
    "version": 3
   },
   "file_extension": ".py",
   "mimetype": "text/x-python",
   "name": "python",
   "nbconvert_exporter": "python",
   "pygments_lexer": "ipython3",
   "version": "3.11.9"
  }
 },
 "nbformat": 4,
 "nbformat_minor": 2
}
